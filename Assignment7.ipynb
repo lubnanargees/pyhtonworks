{
 "cells": [
  {
   "cell_type": "code",
   "execution_count": 1,
   "id": "1b3df079-4a23-41c7-83cf-bd08f446dc09",
   "metadata": {},
   "outputs": [],
   "source": [
    "import numpy as np\n",
    "import pandas as pd"
   ]
  },
  {
   "cell_type": "code",
   "execution_count": 2,
   "id": "0de440be-1a95-4b3d-8d14-fbfe6e50e365",
   "metadata": {},
   "outputs": [
    {
     "name": "stdout",
     "output_type": "stream",
     "text": [
      "Exercise 1:\n",
      " [[ 1  2  3  4  5]\n",
      " [ 6  7  8  9 10]]\n"
     ]
    }
   ],
   "source": [
    "# Exercise 1: Create a numpy array and reshape it to a 2x5 matrix\n",
    "arr1 = np.arange(1, 11).reshape(2, 5)\n",
    "print(\"Exercise 1:\\n\", arr1)"
   ]
  },
  {
   "cell_type": "code",
   "execution_count": 3,
   "id": "20cafd93-6587-4285-ad6c-473efce9022c",
   "metadata": {},
   "outputs": [
    {
     "name": "stdout",
     "output_type": "stream",
     "text": [
      "\n",
      "Exercise 2:\n",
      " [ 6  7  8  9 10 11 12 13 14 15 16]\n"
     ]
    }
   ],
   "source": [
    "# Exercise 2: Extract elements between the 5th and 15th index\n",
    "arr2 = np.arange(1, 21)\n",
    "extracted_elements = arr2[5:16]\n",
    "print(\"\\nExercise 2:\\n\", extracted_elements)\n"
   ]
  },
  {
   "cell_type": "code",
   "execution_count": 4,
   "id": "94f47bd0-8007-42a5-baef-76b3c15135ab",
   "metadata": {},
   "outputs": [
    {
     "name": "stdout",
     "output_type": "stream",
     "text": [
      "\n",
      "Exercise 3:\n",
      " apples     3\n",
      "bananas    2\n",
      "oranges    1\n",
      "pears      4\n",
      "dtype: int64\n"
     ]
    }
   ],
   "source": [
    "# Exercise 3: Create a Pandas series and add a new item\n",
    "fruit_series = pd.Series({'apples': 3, 'bananas': 2, 'oranges': 1})\n",
    "fruit_series['pears'] = 4\n",
    "print(\"\\nExercise 3:\\n\", fruit_series)"
   ]
  },
  {
   "cell_type": "code",
   "execution_count": 6,
   "id": "01082438-b765-4b39-872d-197857be3884",
   "metadata": {},
   "outputs": [
    {
     "name": "stdout",
     "output_type": "stream",
     "text": [
      "\n",
      "Exercise 4:\n",
      "       name  age gender\n",
      "0    Alice   25      F\n",
      "1      Bob   30      M\n",
      "2  Charlie   22      M\n",
      "3    David   35      M\n",
      "4      Eve   40      F\n",
      "5    Frank   28      M\n",
      "6    Grace   32      F\n",
      "7   Hannah   29      F\n",
      "8      Ian   41      M\n",
      "9     Jack   26      M\n"
     ]
    }
   ],
   "source": [
    "# Exercise 4: Create a dataframe with 10 rows of data\n",
    "data = {\n",
    "    'name': ['Alice', 'Bob', 'Charlie', 'David', 'Eve', 'Frank', 'Grace', 'Hannah', 'Ian', 'Jack'],\n",
    "    'age': [25, 30, 22, 35, 40, 28, 32, 29, 41, 26],\n",
    "    'gender': ['F', 'M', 'M', 'M', 'F', 'M', 'F', 'F', 'M', 'M']\n",
    "}\n",
    "df = pd.DataFrame(data)\n",
    "print(\"\\nExercise 4:\\n\", df)"
   ]
  },
  {
   "cell_type": "code",
   "execution_count": 7,
   "id": "ecaa618f-6e5a-4e3e-b7d9-3c293c21077d",
   "metadata": {},
   "outputs": [
    {
     "name": "stdout",
     "output_type": "stream",
     "text": [
      "\n",
      "Exercise 5:\n",
      "       name  age gender  occupation\n",
      "0    Alice   25      F  Programmer\n",
      "1      Bob   30      M     Manager\n",
      "2  Charlie   22      M     Analyst\n",
      "3    David   35      M  Programmer\n",
      "4      Eve   40      F     Manager\n",
      "5    Frank   28      M     Analyst\n",
      "6    Grace   32      F  Programmer\n",
      "7   Hannah   29      F     Manager\n",
      "8      Ian   41      M     Analyst\n",
      "9     Jack   26      M  Programmer\n"
     ]
    }
   ],
   "source": [
    "# Exercise 5: Add a new column 'occupation'\n",
    "df['occupation'] = ['Programmer', 'Manager', 'Analyst', 'Programmer', 'Manager', 'Analyst', 'Programmer', 'Manager', 'Analyst', 'Programmer']\n",
    "print(\"\\nExercise 5:\\n\", df)\n"
   ]
  },
  {
   "cell_type": "code",
   "execution_count": 8,
   "id": "15f0b8d3-4a99-4ba8-b474-e7939960269b",
   "metadata": {},
   "outputs": [
    {
     "name": "stdout",
     "output_type": "stream",
     "text": [
      "\n",
      "Exercise 6:\n",
      "     name  age gender  occupation\n",
      "1    Bob   30      M     Manager\n",
      "3  David   35      M  Programmer\n",
      "4    Eve   40      F     Manager\n",
      "6  Grace   32      F  Programmer\n",
      "8    Ian   41      M     Analyst\n"
     ]
    }
   ],
   "source": [
    "# Exercise 6: Select rows where age is greater than or equal to 30\n",
    "filtered_df = df[df['age'] >= 30]\n",
    "print(\"\\nExercise 6:\\n\", filtered_df)"
   ]
  },
  {
   "cell_type": "code",
   "execution_count": 9,
   "id": "3e84b2cf-f1a1-4d7a-96c0-22bd06131bdf",
   "metadata": {},
   "outputs": [
    {
     "name": "stdout",
     "output_type": "stream",
     "text": [
      "\n",
      "Exercise 7:\n",
      "       name  age gender  occupation\n",
      "0    Alice   25      F  Programmer\n",
      "1      Bob   30      M     Manager\n",
      "2  Charlie   22      M     Analyst\n",
      "3    David   35      M  Programmer\n",
      "4      Eve   40      F     Manager\n",
      "5    Frank   28      M     Analyst\n",
      "6    Grace   32      F  Programmer\n",
      "7   Hannah   29      F     Manager\n",
      "8      Ian   41      M     Analyst\n",
      "9     Jack   26      M  Programmer\n"
     ]
    }
   ],
   "source": [
    "\n",
    "# Exercise 7: Convert dataframe to CSV and read it back\n",
    "df.to_csv(\"data.csv\", index=False)\n",
    "df_read = pd.read_csv(\"data.csv\")\n",
    "print(\"\\nExercise 7:\\n\", df_read)"
   ]
  },
  {
   "cell_type": "code",
   "execution_count": null,
   "id": "0415864c-bf23-4fb8-8d23-feb84eab1310",
   "metadata": {},
   "outputs": [],
   "source": []
  }
 ],
 "metadata": {
  "kernelspec": {
   "display_name": "Python 3 (ipykernel)",
   "language": "python",
   "name": "python3"
  },
  "language_info": {
   "codemirror_mode": {
    "name": "ipython",
    "version": 3
   },
   "file_extension": ".py",
   "mimetype": "text/x-python",
   "name": "python",
   "nbconvert_exporter": "python",
   "pygments_lexer": "ipython3",
   "version": "3.12.7"
  }
 },
 "nbformat": 4,
 "nbformat_minor": 5
}
